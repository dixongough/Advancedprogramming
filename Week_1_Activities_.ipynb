{
  "nbformat": 4,
  "nbformat_minor": 0,
  "metadata": {
    "colab": {
      "name": "Week 1 Activities .ipynb",
      "provenance": [],
      "authorship_tag": "ABX9TyP+Pxvv8U4+tHitrDIYcl0/",
      "include_colab_link": true
    },
    "kernelspec": {
      "name": "python3",
      "display_name": "Python 3"
    }
  },
  "cells": [
    {
      "cell_type": "markdown",
      "metadata": {
        "id": "view-in-github",
        "colab_type": "text"
      },
      "source": [
        "<a href=\"https://colab.research.google.com/github/dixongough/Advancedprogramming/blob/main/Week_1_Activities_.ipynb\" target=\"_parent\"><img src=\"https://colab.research.google.com/assets/colab-badge.svg\" alt=\"Open In Colab\"/></a>"
      ]
    },
    {
      "cell_type": "code",
      "metadata": {
        "id": "UxcCJzGWRyxu"
      },
      "source": [
        ""
      ],
      "execution_count": null,
      "outputs": []
    },
    {
      "cell_type": "code",
      "metadata": {
        "id": "-Rolfc1lZH46"
      },
      "source": [
        "while True:\n",
        "  try: \n",
        "    num = int(input(\"enter a number: \"))\n",
        "    break\n",
        "\n",
        "  except: print(\"please enter an integer only\")\n",
        "\n",
        "print(f\"The even multiplication table for {num} is:\")\n",
        "\n",
        "for i in range(2,21):\n",
        "  if (i*num) % 2 == 0:\n",
        "    print(f\" {i:>8} times {num} is {i*num}\")\n"
      ],
      "execution_count": null,
      "outputs": []
    },
    {
      "cell_type": "code",
      "metadata": {
        "id": "M1oSH0KvR3ZC"
      },
      "source": [
        ""
      ],
      "execution_count": null,
      "outputs": []
    },
    {
      "cell_type": "code",
      "metadata": {
        "id": "MyUgr6pxdsl_",
        "outputId": "7c947239-494a-41be-fbce-f2c3528f5809",
        "colab": {
          "base_uri": "https://localhost:8080/"
        }
      },
      "source": [
        "#right sided triangle\n",
        "n=10\n",
        "for i in range(1,n+1):\n",
        "  print((\" \" * (n-i)), (\"*\" * i) )"
      ],
      "execution_count": null,
      "outputs": [
        {
          "output_type": "stream",
          "text": [
            "          *\n",
            "         **\n",
            "        ***\n",
            "       ****\n",
            "      *****\n",
            "     ******\n",
            "    *******\n",
            "   ********\n",
            "  *********\n",
            " **********\n"
          ],
          "name": "stdout"
        }
      ]
    },
    {
      "cell_type": "code",
      "metadata": {
        "id": "kFMDWqZ-e9CJ",
        "outputId": "5cf35b15-b18e-40f5-b61f-9e77f6be31f8",
        "colab": {
          "base_uri": "https://localhost:8080/"
        }
      },
      "source": [
        "#diamond\n",
        "n = 10\n",
        "for i in range(n):\n",
        "    print(\" \" * (n-i), \"*\" * (i*2+1))\n",
        "for i in range(n-2, -1, -1):\n",
        "    print(\" \" * (n-i) , \"*\" * (i*2+1))\n"
      ],
      "execution_count": null,
      "outputs": [
        {
          "output_type": "stream",
          "text": [
            "           *\n",
            "          ***\n",
            "         *****\n",
            "        *******\n",
            "       *********\n",
            "      ***********\n",
            "     *************\n",
            "    ***************\n",
            "   *****************\n",
            "  *******************\n",
            "   *****************\n",
            "    ***************\n",
            "     *************\n",
            "      ***********\n",
            "       *********\n",
            "        *******\n",
            "         *****\n",
            "          ***\n",
            "           *\n"
          ],
          "name": "stdout"
        }
      ]
    },
    {
      "cell_type": "code",
      "metadata": {
        "id": "mXlVZP2-i3PZ",
        "outputId": "a9628688-bc9b-4691-c1c6-1a3ac0261aec",
        "colab": {
          "base_uri": "https://localhost:8080/"
        }
      },
      "source": [
        "def diamond(n, symb):\n",
        "  for i in range(n):\n",
        "    print(\" \" * (n-i), symb * (i*2+1))\n",
        "  for i in range(n-2, -1, -1):\n",
        "    print(\" \" * (n-i) , symb * (i*2+1))\n",
        "\n",
        "def right(n,symb):\n",
        "  for i in range(1,n+1):\n",
        "    print((\" \" * (n-i)), (symb * i) )\n",
        "\n",
        "shape = input(\"enter d for diamond or r for right side: \")\n",
        "symbol = str(input(\"enter symbol: \"))\n",
        "size = int(input(\"enter size: \"))\n",
        "\n",
        "if shape == 'd':\n",
        "  diamond(size,symbol)\n",
        "\n",
        "elif shape == 'r':\n",
        "  right(size,symbol)\n",
        "\n",
        "else:\n",
        "  print(\"wrong letter entered\")"
      ],
      "execution_count": null,
      "outputs": [
        {
          "output_type": "stream",
          "text": [
            "enter d for diamond or r for right side: r\n",
            "enter symbol: t\n",
            "enter size: 5\n",
            "     t\n",
            "    tt\n",
            "   ttt\n",
            "  tttt\n",
            " ttttt\n"
          ],
          "name": "stdout"
        }
      ]
    },
    {
      "cell_type": "code",
      "metadata": {
        "id": "n81ixHIpk1HE",
        "outputId": "4a4959a8-9de6-4c8f-c6d6-308acb8066c3",
        "colab": {
          "base_uri": "https://localhost:8080/"
        }
      },
      "source": [
        "while True:\n",
        "    days = int(input(\"enter days of the month: \"))\n",
        "    firstDay = int(input(\"enter first day of month (1-7): \"))\n",
        "\n",
        "    if days < 32 and days > 27 and firstDay < 8 and n_firstDay > 0:\n",
        "      break\n",
        "    else:\n",
        "      print(\"error, please try again\")\n",
        "\n",
        "print(\"   M   T   W  Th   F   S  Su\")\n",
        "\n",
        "j = 2 - firstDay\n",
        "for i in range(6):\n",
        "  for k in range(7):\n",
        "    if j < 1 or j > days:\n",
        "      day = \" \" \n",
        "    else: \n",
        "      day = j\n",
        "      \n",
        "    print(f\" {day:>3}\", end =\"\")\n",
        "    j +=1\n",
        "\n",
        "  print()\n",
        "\n",
        "\n",
        "    "
      ],
      "execution_count": null,
      "outputs": [
        {
          "output_type": "stream",
          "text": [
            "enter days of the month: 54\n",
            "enter first day of month (1-7): 8\n",
            "error, please try again\n",
            "enter days of the month: 67\n",
            "enter first day of month (1-7): 3\n",
            "error, please try again\n"
          ],
          "name": "stdout"
        }
      ]
    },
    {
      "cell_type": "code",
      "metadata": {
        "id": "yFA4nC5nuApn"
      },
      "source": [
        "#Stack\n",
        "stack = [7,1,3,5,0,6]\n",
        "def push():\n",
        "  num = int(input(\"type number to add: \"))\n",
        "  stack.append(num)\n",
        "  print(stack)\n",
        "\n",
        "def pop():\n",
        "  stack.pop()\n",
        "  print(stack)\n",
        "\n",
        "while True:\n",
        "  action = int(input(\"\"\" Select the following options by typing the number: \\n\n",
        "                    1. Push \\n\n",
        "                    2. Pop \\n\n",
        "                    3. View \\n\n",
        "                    4. exit \n",
        "                    \"\"\"))\n",
        "  \n",
        "  if action == 1:\n",
        "    push()\n",
        "\n",
        "  elif action == 2:\n",
        "    pop()\n",
        "\n",
        "  elif action == 3:\n",
        "    print(stack)\n",
        "\n",
        "  elif action == 4:\n",
        "    break\n",
        "\n",
        "  else:\n",
        "    print(\"error\")\n"
      ],
      "execution_count": null,
      "outputs": []
    },
    {
      "cell_type": "code",
      "metadata": {
        "id": "ZPeTLIo5Q_Xw"
      },
      "source": [
        "\n"
      ],
      "execution_count": null,
      "outputs": []
    },
    {
      "cell_type": "code",
      "metadata": {
        "id": "76DnlYV2xqMX"
      },
      "source": [
        "#queue\n",
        "\n",
        "queue = [4,8,2]\n",
        "def push():\n",
        "  num = int(input(\"type number to add: \"))\n",
        "  queue.append(num)\n",
        "  print(queue)\n",
        "\n",
        "def pop():\n",
        "  queue.pop(0)\n",
        "  print(queue)\n",
        "\n",
        "while True:\n",
        "  action = int(input(\"\"\" Select the following options by typing the number: \\n\n",
        "                    1. Push \\n\n",
        "                    2. Pop \\n\n",
        "                    3. View \\n\n",
        "                    4. exit \n",
        "                    \"\"\"))\n",
        "  \n",
        "  if action == 1:\n",
        "    push()\n",
        "\n",
        "  elif action == 2:\n",
        "    pop()\n",
        "\n",
        "  elif action == 3:\n",
        "    print(queue)\n",
        "\n",
        "  elif action == 4:\n",
        "    break\n",
        "\n",
        "  else:\n",
        "    print(\"error\")"
      ],
      "execution_count": null,
      "outputs": []
    },
    {
      "cell_type": "code",
      "metadata": {
        "id": "iFB04B6WySII",
        "outputId": "424815c1-1217-43a9-faae-24095649ffd1",
        "colab": {
          "base_uri": "https://localhost:8080/"
        }
      },
      "source": [
        "#exercise 2\n",
        "\n",
        "data = [[390,345,379],[250,270,300],[460,480,450],[470,510,360]]\n",
        "months =[[],[],[]]\n",
        "print(\"Quarterly sales report\")\n",
        "i = 0\n",
        "for outlet in data:\n",
        "  print(f\"average outlet: {sum(outlet)/3:.2f}  total: {sum(outlet)}\")\n",
        "  for i in range(3):\n",
        "    months[i].append(outlet[i])\n",
        "total = 0\n",
        "for month in months:\n",
        "  total += sum(month)\n",
        "  print(f\"average monthly: {sum(month)/4}  total {sum(month)}\")\n",
        "\n",
        "print(f\"grand total: {total}\")\n"
      ],
      "execution_count": null,
      "outputs": [
        {
          "output_type": "stream",
          "text": [
            "Quarterly sales report\n",
            "average outlet: 371.33  total: 1114\n",
            "average outlet: 273.33  total: 820\n",
            "average outlet: 463.33  total: 1390\n",
            "average outlet: 446.67  total: 1340\n",
            "average monthly: 392.5  total 1570\n",
            "average monthly: 401.25  total 1605\n",
            "average monthly: 372.25  total 1489\n",
            "grand total: 4664\n"
          ],
          "name": "stdout"
        }
      ]
    },
    {
      "cell_type": "code",
      "metadata": {
        "id": "cEVbBPRb4rvd",
        "outputId": "e2d6143b-e6b5-4adf-8a57-03a9497154fb",
        "colab": {
          "base_uri": "https://localhost:8080/"
        }
      },
      "source": [
        "#Functions ex 1\n",
        "\n",
        "sentence = input(\"type sentence: \")\n",
        "letters = {'A':0,'U':0,'I':0,'E':0,'O':0, 'others':0}\n",
        "sentence = sentence.replace(\" \",\"\")\n",
        "sent2list = list((sentence.upper()))\n",
        "for char in sent2list:\n",
        "  try:\n",
        "    letters[char] = letters[char] + 1\n",
        "  except:\n",
        "    letters['others'] = letters['others'] + 1\n",
        "\n",
        "for k, v in letters.items():\n",
        "  print(f\"{k}: {'*' * v} \")\n",
        "\n",
        "print(f\"Other (non-space) Characters: {letters['others']}\")"
      ],
      "execution_count": null,
      "outputs": [
        {
          "output_type": "stream",
          "text": [
            "type sentence: The black cat sat up on the orange mat!\n",
            "A: ***** \n",
            "U: * \n",
            "I:  \n",
            "E: *** \n",
            "O: ** \n",
            "others: ******************** \n",
            "Other (non-space) Characters: 20\n"
          ],
          "name": "stdout"
        }
      ]
    },
    {
      "cell_type": "code",
      "metadata": {
        "id": "OzjcC3GF-BlW",
        "outputId": "92a3b061-ca98-4e17-a0ad-ab73b258202f",
        "colab": {
          "base_uri": "https://localhost:8080/"
        }
      },
      "source": [
        "#functions ex 2\n",
        "\n",
        "word1 = list(input(\"enter word 1: \"))\n",
        "word2 = list(input(\"enter word 2: \"))\n",
        "\n",
        "string1 = set(word1)\n",
        "string2 = set(word2)\n",
        "def isAnagram(string1, string2):\n",
        "  if len(string1.difference(string2)) == 0:\n",
        "    return True\n",
        "  else:\n",
        "    return False\n",
        "\n",
        "if isAnagram(string1,string2):\n",
        "  print(\"these are anagrams\")\n",
        "\n",
        "else:\n",
        "  print(\"they are not\")"
      ],
      "execution_count": null,
      "outputs": [
        {
          "output_type": "stream",
          "text": [
            "enter word 1: hello\n",
            "enter word 2: ollhe\n",
            "these are anagrams\n"
          ],
          "name": "stdout"
        }
      ]
    },
    {
      "cell_type": "code",
      "metadata": {
        "id": "FbeKcFFYAUTp"
      },
      "source": [
        "#function ex 3\n",
        "\n",
        "stack = [3,66]\n",
        "def stack_queue(i):\n",
        "  def push():\n",
        "    num = int(input(\"type number to add: \"))\n",
        "    stack.append(num)\n",
        "    print(stack)\n",
        "\n",
        "  def pop(i):\n",
        "    stack.pop(i)\n",
        "    print(stack)\n",
        "\n",
        "  while True:\n",
        "    action = int(input(\"\"\" Select the following options by typing the number: \\n\n",
        "                      1. Push \\n\n",
        "                      2. Pop \\n\n",
        "                      3. View \\n\n",
        "                      4. exit \n",
        "                      \"\"\"))\n",
        "    \n",
        "    if action == 1:\n",
        "      push()\n",
        "\n",
        "    elif action == 2:\n",
        "      pop(i)\n",
        "\n",
        "    elif action == 3:\n",
        "      print(stack)\n",
        "\n",
        "    elif action == 4:\n",
        "      break\n",
        "\n",
        "    else:\n",
        "      print(\"error\")\n",
        "\n",
        "option = input(\"s for stack, q for queue\")\n",
        "\n",
        "if option == \"s\":\n",
        "  stack_queue(-1)\n",
        "if option == \"q\":\n",
        "  stack_queue(0)"
      ],
      "execution_count": null,
      "outputs": []
    }
  ]
}